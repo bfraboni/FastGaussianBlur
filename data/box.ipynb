{
 "cells": [
  {
   "cell_type": "code",
   "execution_count": 12,
   "id": "downtown-roommate",
   "metadata": {},
   "outputs": [
    {
     "data": {
      "image/png": "[encoded data removed]",
      "text/plain": [
       "<Figure size 1296x216 with 7 Axes>"
      ]
     },
     "metadata": {
      "needs_background": "light"
     },
     "output_type": "display_data"
    }
   ],
   "source": [
    "import cv2\n",
    "import numpy as np\n",
    "import matplotlib.pyplot as plt\n",
    "\n",
    "#image = cv2.imread('data/demo.png')\n",
    "#image = cv2.cvtColor(image, cv2.COLOR_BGR2GRAY)\n",
    "#print(image)\n",
    "\n",
    "# define normalized 2D gaussian\n",
    "def gaus2d(x=0, y=0, mx=0, my=0, sx=1, sy=1):\n",
    "    return 1. / (2. * np.pi * sx * sy) * np.exp(-((x - mx)**2. / (2. * sx**2.) + (y - my)**2. / (2. * sy**2.)))\n",
    "\n",
    "x = np.linspace(-5, 5)\n",
    "y = np.linspace(-5, 5)\n",
    "x, y = np.meshgrid(x, y) # get 2D variables instead of 1D\n",
    "image = gaus2d(x, y) * 255\n",
    "#print(image.shape)\n",
    "#print(image)\n",
    "\n",
    "image = np.ones((49,49))*255\n",
    "image[24][24] = 0\n",
    "\n",
    "gblur = cv2.GaussianBlur(image,(31,31),3.5,3.5)\n",
    "bblur1 = cv2.boxFilter(image,-1,(5,5))\n",
    "bblur2 = cv2.boxFilter(bblur1,-1,(5,5))\n",
    "bblur3 = cv2.boxFilter(bblur2,-1,(5,5))\n",
    "bblur4 = cv2.boxFilter(bblur3,-1,(5,5))\n",
    "bblur5 = cv2.boxFilter(bblur4,-1,(5,5))\n",
    "\n",
    "plt.figure(figsize=(18,3))\n",
    "\n",
    "plt.subplot(1,7,1)\n",
    "plt.title(\"Input\")\n",
    "plt.imshow(image, cmap='Blues')\n",
    "plt.gca().get_xaxis().set_visible(False)\n",
    "plt.gca().get_yaxis().set_visible(False)\n",
    "\n",
    "plt.subplot(1,7,2)\n",
    "plt.title(\"Box blur 1 pass\")\n",
    "plt.imshow(bblur1, cmap='Blues')\n",
    "plt.gca().get_xaxis().set_visible(False)\n",
    "plt.gca().get_yaxis().set_visible(False)\n",
    "\n",
    "plt.subplot(1,7,3)\n",
    "plt.title(\"Box blur 2 passes\")\n",
    "plt.imshow(bblur2, cmap='Blues')\n",
    "plt.gca().get_xaxis().set_visible(False)\n",
    "plt.gca().get_yaxis().set_visible(False)\n",
    "\n",
    "plt.subplot(1,7,4)\n",
    "plt.title(\"Box blur 3 passes\")\n",
    "plt.imshow(bblur3, cmap='Blues')\n",
    "plt.gca().get_xaxis().set_visible(False)\n",
    "plt.gca().get_yaxis().set_visible(False)\n",
    "\n",
    "plt.subplot(1,7,5)\n",
    "plt.title(\"Box blur 4 passes\")\n",
    "plt.imshow(bblur4, cmap='Blues')\n",
    "plt.gca().get_xaxis().set_visible(False)\n",
    "plt.gca().get_yaxis().set_visible(False)\n",
    "\n",
    "plt.subplot(1,7,6)\n",
    "plt.title(\"Box blur 5 passes\")\n",
    "plt.imshow(bblur5, cmap='Blues')\n",
    "plt.gca().get_xaxis().set_visible(False)\n",
    "plt.gca().get_yaxis().set_visible(False)\n",
    "\n",
    "plt.subplot(1,7,7)\n",
    "plt.title(\"Gaussian blur\")\n",
    "plt.imshow(gblur, cmap='Blues')\n",
    "plt.gca().get_xaxis().set_visible(False)\n",
    "plt.gca().get_yaxis().set_visible(False)\n",
    "\n",
    "plt.tight_layout()\n",
    "#plt.savefig(\"box.png\", transparent=False)\n",
    "#plt.savefig(\"box.svg\", facecolor=\"#bbbbbb\")\n",
    "plt.savefig(\"box.jpg\", facecolor='white', dpi=300)\n",
    "plt.show()"
   ]
  },
  {
   "cell_type": "code",
   "execution_count": null,
   "id": "recognized-monitoring",
   "metadata": {},
   "outputs": [],
   "source": []
  },
  {
   "cell_type": "code",
   "execution_count": null,
   "id": "external-lightweight",
   "metadata": {},
   "outputs": [],
   "source": []
  }
 ],
 "metadata": {
  "kernelspec": {
   "display_name": "Python 3",
   "language": "python",
   "name": "python3"
  },
  "language_info": {
   "codemirror_mode": {
    "name": "ipython",
    "version": 3
   },
   "file_extension": ".py",
   "mimetype": "text/x-python",
   "name": "python",
   "nbconvert_exporter": "python",
   "pygments_lexer": "ipython3",
   "version": "3.8.10"
  }
 },
 "nbformat": 4,
 "nbformat_minor": 5
}
